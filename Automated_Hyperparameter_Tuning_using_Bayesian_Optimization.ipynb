{
  "nbformat": 4,
  "nbformat_minor": 0,
  "metadata": {
    "kernelspec": {
      "name": "python3",
      "display_name": "Python 3"
    },
    "language_info": {
      "codemirror_mode": {
        "name": "ipython",
        "version": 3
      },
      "file_extension": ".py",
      "mimetype": "text/x-python",
      "name": "python",
      "nbconvert_exporter": "python",
      "pygments_lexer": "ipython3",
      "version": "3.6.7"
    },
    "latex_envs": {
      "bibliofile": "biblio.bib",
      "cite_by": "apalike",
      "current_citInitial": 1,
      "eqLabelWithNumbers": true,
      "eqNumInitial": 0
    },
    "colab": {
      "name": "Automated Hyperparameter Tuning using Bayesian Optimization.ipynb",
      "provenance": [],
      "collapsed_sections": [],
      "include_colab_link": true
    },
    "accelerator": "GPU"
  },
  "cells": [
    {
      "cell_type": "markdown",
      "metadata": {
        "id": "view-in-github",
        "colab_type": "text"
      },
      "source": [
        "<a href=\"https://colab.research.google.com/github/algit123/Automated-Hyperparameter-Tuning/blob/master/Automated_Hyperparameter_Tuning_using_Bayesian_Optimization.ipynb\" target=\"_parent\"><img src=\"https://colab.research.google.com/assets/colab-badge.svg\" alt=\"Open In Colab\"/></a>"
      ]
    },
    {
      "cell_type": "markdown",
      "metadata": {
        "id": "lfttQe87pmiW",
        "colab_type": "text"
      },
      "source": [
        "# Automated Hyperparameter Tuning using Bayesian Optimization "
      ]
    },
    {
      "cell_type": "markdown",
      "metadata": {
        "id": "wYanbV2N7nsd",
        "colab_type": "text"
      },
      "source": [
        "In this notebook, we use Bayesian Optimization to automatically tune hyperparameters for 2 popular Machine Learnng packages:\n",
        "* Xgboost, the top gradient boosting package, and\n",
        "* SVR (Support Vector Regressor) part of SVM, the Support Vector Machine family\n",
        "\n",
        "**Data:**               We will use the 'Diabetes' dataset that is included in the sklearn package\n",
        "\n",
        "**Scoring:**             MSE (Mean square Error) is the metric we have chosen\n",
        "\n",
        "**Validation strategy:** We will use Cross-validation, to estimate the accuracy of our models\n",
        "\n",
        "**Performance Gain:**    Upon Tuning, we will compute the performance gain as follows: Perforance Gain = (Baseline score(no tuning) / Achieved score) * 100. So if Baseline MSE is 100 and we achieve an MSE of 50, we would have obtained a 100% performance gain over the baseline (no tuning, default parameter values)\n",
        "\n"
      ]
    },
    {
      "cell_type": "code",
      "metadata": {
        "id": "ikBL5osbpmij",
        "colab_type": "code",
        "colab": {}
      },
      "source": [
        "! pip install GPy gpyopt xgboost"
      ],
      "execution_count": 0,
      "outputs": []
    },
    {
      "cell_type": "markdown",
      "metadata": {
        "id": "yz9-djVp9RqF",
        "colab_type": "text"
      },
      "source": [
        "## Import Packages "
      ]
    },
    {
      "cell_type": "code",
      "metadata": {
        "id": "Cvz2v07Ypmip",
        "colab_type": "code",
        "colab": {}
      },
      "source": [
        "import numpy as np\n",
        "import GPy\n",
        "import GPyOpt\n",
        "import matplotlib\n",
        "import matplotlib.pyplot as plt\n",
        "import sklearn\n",
        "from sklearn.svm import SVR\n",
        "import sklearn.datasets\n",
        "import xgboost\n",
        "from xgboost import XGBRegressor\n",
        "from sklearn.model_selection import cross_val_score\n",
        "import time\n",
        "%matplotlib inline"
      ],
      "execution_count": 0,
      "outputs": []
    },
    {
      "cell_type": "markdown",
      "metadata": {
        "id": "HL9u-m4D-Dm2",
        "colab_type": "text"
      },
      "source": [
        "## Package versions"
      ]
    },
    {
      "cell_type": "code",
      "metadata": {
        "id": "qeVCd1uA-PbS",
        "colab_type": "code",
        "colab": {
          "base_uri": "https://localhost:8080/",
          "height": 121
        },
        "outputId": "690a6c6a-e882-4f35-be3c-c178c47f03e0"
      },
      "source": [
        "for p in [np, GPy, GPyOpt, sklearn, xgboost, matplotlib]:\n",
        "    print (p.__name__, p.__version__)"
      ],
      "execution_count": 11,
      "outputs": [
        {
          "output_type": "stream",
          "text": [
            "numpy 1.17.5\n",
            "GPy 1.9.9\n",
            "GPyOpt 1.2.5\n",
            "sklearn 0.22.1\n",
            "xgboost 0.90\n",
            "matplotlib 3.1.3\n"
          ],
          "name": "stdout"
        }
      ]
    },
    {
      "cell_type": "markdown",
      "metadata": {
        "id": "Aswiky75HZ3g",
        "colab_type": "text"
      },
      "source": [
        "## Load Data"
      ]
    },
    {
      "cell_type": "code",
      "metadata": {
        "id": "T5SunF6lpmj7",
        "colab_type": "code",
        "colab": {}
      },
      "source": [
        "dataset = sklearn.datasets.load_diabetes()\n",
        "X = dataset['data']\n",
        "y = dataset['target']"
      ],
      "execution_count": 0,
      "outputs": []
    },
    {
      "cell_type": "markdown",
      "metadata": {
        "id": "aIYNRVyQpmj5",
        "colab_type": "text"
      },
      "source": [
        "## 1- Xgboost"
      ]
    },
    {
      "cell_type": "markdown",
      "metadata": {
        "id": "fEJGM1cRHvdo",
        "colab_type": "text"
      },
      "source": [
        "Parameters tuned:\n",
        "*  max_depth, \n",
        "* learning_rate,\n",
        "* n_estimators,\n",
        "* min_child_weight, and\n",
        "* gamma"
      ]
    },
    {
      "cell_type": "code",
      "metadata": {
        "id": "HchtzHNzpmkA",
        "colab_type": "code",
        "colab": {}
      },
      "source": [
        "# Score. Optimizer will try to find minimum, so we will add a \"-\" sign.\n",
        "def f(parameters):\n",
        "    parameters = parameters[0]\n",
        "    score = -cross_val_score(\n",
        "        XGBRegressor(learning_rate=parameters[0],\n",
        "                     max_depth=int(parameters[2]),\n",
        "                     n_estimators=int(parameters[3]),\n",
        "                     gamma=int(parameters[1]),\n",
        "                     min_child_weight = parameters[4]), \n",
        "        X, y, scoring='neg_mean_squared_error'\n",
        "    ).mean()\n",
        "    score = np.array(score)\n",
        "    return score"
      ],
      "execution_count": 0,
      "outputs": []
    },
    {
      "cell_type": "code",
      "metadata": {
        "id": "fyhxCj48pmkD",
        "colab_type": "code",
        "outputId": "80f62656-e1b2-458f-e7e8-c73306869e0f",
        "colab": {
          "base_uri": "https://localhost:8080/",
          "height": 34
        }
      },
      "source": [
        "baseline = -cross_val_score(\n",
        "    XGBRegressor(), X, y, scoring='neg_mean_squared_error'\n",
        ").mean()\n",
        "baseline"
      ],
      "execution_count": 6,
      "outputs": [
        {
          "output_type": "execute_result",
          "data": {
            "text/plain": [
              "\"\\nbaseline = -cross_val_score(\\n    XGBRegressor(), X, y, scoring='neg_mean_squared_error'\\n).mean()\\nbaseline\\n\""
            ]
          },
          "metadata": {
            "tags": []
          },
          "execution_count": 6
        }
      ]
    },
    {
      "cell_type": "code",
      "metadata": {
        "id": "ycvkhq-wpmkH",
        "colab_type": "code",
        "colab": {}
      },
      "source": [
        "# Bounds (NOTE: define continuous variables first, then discrete!)\n",
        "bounds = [\n",
        "    {'name': 'learning_rate',\n",
        "     'type': 'continuous',\n",
        "     'domain': (0, 1)},\n",
        "\n",
        "    {'name': 'gamma',\n",
        "     'type': 'continuous',\n",
        "     'domain': (0, 5)},\n",
        "\n",
        "    {'name': 'max_depth',\n",
        "     'type': 'discrete',\n",
        "     'domain': (1, 50)},\n",
        "\n",
        "    {'name': 'n_estimators',\n",
        "     'type': 'discrete',\n",
        "     'domain': (1, 300)},\n",
        "\n",
        "    {'name': 'min_child_weight',\n",
        "     'type': 'discrete',\n",
        "     'domain': (1, 10)}\n",
        "]"
      ],
      "execution_count": 0,
      "outputs": []
    },
    {
      "cell_type": "code",
      "metadata": {
        "scrolled": false,
        "id": "nfS_Pb7apmkL",
        "colab_type": "code",
        "outputId": "9f50300c-d9dc-48fd-a9d3-e66ca16f6aaa",
        "colab": {
          "base_uri": "https://localhost:8080/",
          "height": 54
        }
      },
      "source": [
        "np.random.seed(777)\n",
        "optimizer = GPyOpt.methods.BayesianOptimization(\n",
        "    f=f, domain=bounds,\n",
        "    acquisition_type ='MPI',\n",
        "    acquisition_par = 0.1,\n",
        "    exact_eval=True\n",
        ")\n"
      ],
      "execution_count": 2,
      "outputs": [
        {
          "output_type": "execute_result",
          "data": {
            "text/plain": [
              "\"np.random.seed(777)\\noptimizer = GPyOpt.methods.BayesianOptimization(\\n    f=f, domain=bounds,\\n    acquisition_type ='MPI',\\n    acquisition_par = 0.1,\\n    exact_eval=True\\n)\\n\""
            ]
          },
          "metadata": {
            "tags": []
          },
          "execution_count": 2
        }
      ]
    },
    {
      "cell_type": "code",
      "metadata": {
        "id": "NyYsEv0apmkO",
        "colab_type": "code",
        "outputId": "48f6fe2a-0ada-44d9-f9af-aa0cf88d62f8",
        "colab": {
          "base_uri": "https://localhost:8080/",
          "height": 34
        }
      },
      "source": [
        "\n",
        "max_iter = 50\n",
        "max_time = 60\n",
        "optimizer.run_optimization(max_iter, max_time)\n"
      ],
      "execution_count": 4,
      "outputs": [
        {
          "output_type": "execute_result",
          "data": {
            "text/plain": [
              "'\\nmax_iter = 50\\nmax_time = 60\\noptimizer.run_optimization(max_iter, max_time)\\n'"
            ]
          },
          "metadata": {
            "tags": []
          },
          "execution_count": 4
        }
      ]
    },
    {
      "cell_type": "code",
      "metadata": {
        "id": "ZWFHHcnTpmkT",
        "colab_type": "code",
        "outputId": "d43edb71-a308-4b81-978b-99f85b339641",
        "colab": {
          "base_uri": "https://localhost:8080/",
          "height": 350
        }
      },
      "source": [
        "optimizer.plot_convergence()"
      ],
      "execution_count": 18,
      "outputs": [
        {
          "output_type": "display_data",
          "data": {
            "image/png": "[encoded data removed]",
            "text/plain": [
              "<Figure size 720x360 with 2 Axes>"
            ]
          },
          "metadata": {
            "tags": []
          }
        }
      ]
    },
    {
      "cell_type": "markdown",
      "metadata": {
        "id": "N8l3np7KpmkV",
        "colab_type": "text"
      },
      "source": [
        "Best values of parameters:"
      ]
    },
    {
      "cell_type": "code",
      "metadata": {
        "id": "7DASaXVUpmkW",
        "colab_type": "code",
        "outputId": "9f27a1df-255b-409e-82c9-ec525de14d5c",
        "colab": {
          "base_uri": "https://localhost:8080/",
          "height": 51
        }
      },
      "source": [
        "optimizer.X[np.argmin(optimizer.Y)]"
      ],
      "execution_count": 19,
      "outputs": [
        {
          "output_type": "execute_result",
          "data": {
            "text/plain": [
              "array([4.76325090e-02, 1.19202751e+00, 1.00000000e+00, 3.00000000e+02,\n",
              "       1.00000000e+00])"
            ]
          },
          "metadata": {
            "tags": []
          },
          "execution_count": 19
        }
      ]
    },
    {
      "cell_type": "code",
      "metadata": {
        "id": "wQofbw3bpmkX",
        "colab_type": "code",
        "outputId": "5498be1e-9ae0-400c-be20-bc4d31ff77df",
        "colab": {
          "base_uri": "https://localhost:8080/",
          "height": 34
        }
      },
      "source": [
        "print('MSE:', np.min(optimizer.Y),\n",
        "      'Gain:', baseline/np.min(optimizer.Y)*100)"
      ],
      "execution_count": 20,
      "outputs": [
        {
          "output_type": "stream",
          "text": [
            "MSE: 3189.185708011576 Gain: 107.77278973061391\n"
          ],
          "name": "stdout"
        }
      ]
    },
    {
      "cell_type": "markdown",
      "metadata": {
        "id": "xUrjzerApmkb",
        "colab_type": "text"
      },
      "source": [
        "**Result:**   We obtained a 7.7% performance gain over the baseline (default parameter values, and no tuning)"
      ]
    },
    {
      "cell_type": "markdown",
      "metadata": {
        "id": "gVqLkZ4kNZBk",
        "colab_type": "text"
      },
      "source": [
        "## 2- SVR (Support Vector Regressor)"
      ]
    },
    {
      "cell_type": "markdown",
      "metadata": {
        "id": "rNJlNhz3Nn2H",
        "colab_type": "text"
      },
      "source": [
        "Parameters tuned:\n",
        "* C, \n",
        "* epsilon, and\n",
        "* gamma"
      ]
    },
    {
      "cell_type": "code",
      "metadata": {
        "id": "-OG07ARKZsa2",
        "colab_type": "code",
        "colab": {}
      },
      "source": [
        "# Score. Optimizer will try to find minimum, so we will add a \"-\" sign.\n",
        "def f(parameters):\n",
        "    parameters = parameters[0]\n",
        "    score = -cross_val_score(\n",
        "        SVR(C=parameters[0],\n",
        "            epsilon=float(parameters[1]),\n",
        "            gamma=float(parameters[2])), \n",
        "        X, y, scoring='neg_mean_squared_error'\n",
        "    ).mean()\n",
        "    score = np.array(score)\n",
        "    return score"
      ],
      "execution_count": 0,
      "outputs": []
    },
    {
      "cell_type": "code",
      "metadata": {
        "id": "_D5JJ36Nb-c1",
        "colab_type": "code",
        "outputId": "2e4f0676-7609-4bfb-a0d5-0a4db11bf75d",
        "colab": {
          "base_uri": "https://localhost:8080/",
          "height": 34
        }
      },
      "source": [
        "baseline = -cross_val_score(\n",
        "    SVR(), X, y, scoring='neg_mean_squared_error'\n",
        ").mean()\n",
        "baseline"
      ],
      "execution_count": 22,
      "outputs": [
        {
          "output_type": "execute_result",
          "data": {
            "text/plain": [
              "4976.655882526393"
            ]
          },
          "metadata": {
            "tags": []
          },
          "execution_count": 22
        }
      ]
    },
    {
      "cell_type": "code",
      "metadata": {
        "id": "M0p1aXa2cHBP",
        "colab_type": "code",
        "colab": {}
      },
      "source": [
        "# Bounds (NOTE: define continuous variables first, then discrete!)\n",
        "bounds = [\n",
        "    {'name': 'C',\n",
        "     'type': 'continuous',\n",
        "     'domain': (1e-5, 1000)},\n",
        "\n",
        "    {'name': 'epsilon',\n",
        "     'type': 'continuous',\n",
        "     'domain': (1e-5, 10)},\n",
        "\n",
        "    {'name': 'gamma',\n",
        "     'type': 'continuous',\n",
        "     'domain': (1e-5, 10)}\n",
        "]"
      ],
      "execution_count": 0,
      "outputs": []
    },
    {
      "cell_type": "code",
      "metadata": {
        "id": "bkpkuQ-TdaPg",
        "colab_type": "code",
        "colab": {}
      },
      "source": [
        "np.random.seed(777)\n",
        "optimizer = GPyOpt.methods.BayesianOptimization(\n",
        "    f=f, domain=bounds,\n",
        "    acquisition_type ='MPI',\n",
        "    acquisition_par = 0.1,\n",
        "    exact_eval=True\n",
        ")"
      ],
      "execution_count": 0,
      "outputs": []
    },
    {
      "cell_type": "code",
      "metadata": {
        "id": "_ifEFc8idu55",
        "colab_type": "code",
        "colab": {}
      },
      "source": [
        "max_iter = 50\n",
        "max_time = 60\n",
        "optimizer.run_optimization(max_iter, max_time)"
      ],
      "execution_count": 0,
      "outputs": []
    },
    {
      "cell_type": "code",
      "metadata": {
        "id": "fyt7XcNIeNyV",
        "colab_type": "code",
        "outputId": "74785518-944e-482e-e32a-edef0c2173b7",
        "colab": {
          "base_uri": "https://localhost:8080/",
          "height": 350
        }
      },
      "source": [
        "optimizer.plot_convergence()"
      ],
      "execution_count": 26,
      "outputs": [
        {
          "output_type": "display_data",
          "data": {
            "image/png": "[encoded data removed]",
            "text/plain": [
              "<Figure size 720x360 with 2 Axes>"
            ]
          },
          "metadata": {
            "tags": []
          }
        }
      ]
    },
    {
      "cell_type": "markdown",
      "metadata": {
        "id": "LXna2jGAYLIT",
        "colab_type": "text"
      },
      "source": [
        "Best value of parameters"
      ]
    },
    {
      "cell_type": "code",
      "metadata": {
        "id": "tr5HC0XIen6X",
        "colab_type": "code",
        "outputId": "3a30d8c7-c2ac-41c5-d248-6010b6d148c0",
        "colab": {
          "base_uri": "https://localhost:8080/",
          "height": 34
        }
      },
      "source": [
        "### Best value of parameters\n",
        "optimizer.X[np.argmin(optimizer.Y)]"
      ],
      "execution_count": 27,
      "outputs": [
        {
          "output_type": "execute_result",
          "data": {
            "text/plain": [
              "array([37.6645348, 10.       ,  8.8905192])"
            ]
          },
          "metadata": {
            "tags": []
          },
          "execution_count": 27
        }
      ]
    },
    {
      "cell_type": "code",
      "metadata": {
        "id": "5p1g6ZYrgA5k",
        "colab_type": "code",
        "outputId": "454fdd4f-dd16-42e7-8fcc-cef9e4dcb45d",
        "colab": {
          "base_uri": "https://localhost:8080/",
          "height": 34
        }
      },
      "source": [
        "print('MSE:', np.min(optimizer.Y),\n",
        "      'Gain:', baseline/np.min(optimizer.Y)*100)"
      ],
      "execution_count": 28,
      "outputs": [
        {
          "output_type": "stream",
          "text": [
            "MSE: 2911.470304239638 Gain: 170.9327371561875\n"
          ],
          "name": "stdout"
        }
      ]
    },
    {
      "cell_type": "markdown",
      "metadata": {
        "id": "sTsl1BBIQjxY",
        "colab_type": "text"
      },
      "source": [
        "**Result:**  We achieved a 70.9% gain over the baseline (default parameter values and no tuning)"
      ]
    }
  ]
}